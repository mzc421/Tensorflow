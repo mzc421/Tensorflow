{
 "cells": [
  {
   "cell_type": "markdown",
   "id": "7ab6568d",
   "metadata": {},
   "source": [
    "TFRecord 是 TensorFlow 中的数据集中存储格式。\n",
    "\n",
    "将数据集整理成 TFRecord 格式后，TensorFlow 就可以高效地读取和处理这些数据集，从而更高效地进行大规模的模型训练。"
   ]
  },
  {
   "cell_type": "raw",
   "id": "a289d66c",
   "metadata": {},
   "source": [
    "TFRecord 可以理解为一系列序列化的 tf.train.Example 元素所组成的列表文件，而每一个 tf.train.Example 又由若干个 tf.train.Feature 的字典组成。形式如下：\n",
    "dataset.tfrecords\n",
    "{   \n",
    "    # example 1 (tf.train.ExampLe)\n",
    "    'feature_1':tf.train.Feature,\n",
    "    ...\n",
    "    'feature_k':tf.train.Feature  \n",
    "},\n",
    "{\n",
    "    # exampLe N (tf.train.ExampLe)\n",
    "    'feature_1':tf.train.Feature,\n",
    "    ......\n",
    "    'feature_k':tf.train.Feature  \n",
    "}"
   ]
  },
  {
   "cell_type": "markdown",
   "id": "fec1eccd",
   "metadata": {},
   "source": [
    "# TFRecord格式数据文件处理过程\n",
    "将形式各样的数据集整理为 TFRecord 格式，可以对数据集中的每个元素进行以下步骤：\n",
    "\n",
    "1）读取该数据元素到内存；\n",
    "\n",
    "2）将该元素转换为 tf.train.Example 对象（每一个 tf.train.Example 由若干个 tf.train.Feature 的字典组成，因此需要先建立 Feature 的字典）；\n",
    "\n",
    "3）将该 tf.train.Example 对象序列化为字符串，并通过一个预先定义的 tf.io.TFRecordWriter 写入 TFRecord 文件。\n",
    "\n",
    "读取 TFRecord 数据可按照以下步骤：\n",
    "\n",
    "1）通过 tf.data.TFRecordDataset 读入原始的 TFRecord 文件（此时文件中的 tf.train.Example 对象尚未被反序列化），获得一个 tf.data.Dataset数据集对象；\n",
    "\n",
    "2）通过 Dataset.map 方法，对该数据集对象中的每一个序列化的 tf.train.Example 字符串执行 tf.io.parse_single_example 函数，从而实现反序列化。"
   ]
  },
  {
   "cell_type": "markdown",
   "id": "c07f49b1",
   "metadata": {},
   "source": [
    "# 读取数据集的图片文件名列表及标签"
   ]
  },
  {
   "cell_type": "code",
   "execution_count": 21,
   "id": "2bec064f",
   "metadata": {},
   "outputs": [],
   "source": [
    "def read_image_filenames(data_dir) :\n",
    "    cat_dir = data_dir + \"cat/\"\n",
    "    dog_dir = data_dir + \"dog/\"\n",
    "    \n",
    "    cat_filenames = [cat_dir + fn for fn in os.listdir(cat_dir)]\n",
    "    dog_filenames = [dog_dir + fn for fn in os.listdir(dog_dir)]\n",
    "    filenames = cat_filenames + dog_filenames\n",
    "    \n",
    "    # 将cat类的标签设为0， dog类的标签设为1\n",
    "    labels = [0]* len(cat_filenames) + [1] *len(dog_filenames)\n",
    "    \n",
    "    return filenames,labels\n"
   ]
  },
  {
   "cell_type": "markdown",
   "id": "06b627c9",
   "metadata": {},
   "source": [
    "# 定义生成TFRecord格式数据文件函数"
   ]
  },
  {
   "cell_type": "code",
   "execution_count": 22,
   "id": "ed9cc9d5",
   "metadata": {},
   "outputs": [],
   "source": [
    "def write_TFRecord_file(filenames,labels,tfrecord_file):\n",
    "    with tf.io.TFRecordWriter(tfrecord_file) as writer:\n",
    "        for filename,label in zip(filenames,labels) :\n",
    "            # 读取数据集图片到内存，image 为一个 Byte类型的字符串\n",
    "            image = open(filename,\"rb\").read()\n",
    "            # 建立tf.train.Feature字典\n",
    "            feature = {\n",
    "                    # 图片是一个Bytes对象\n",
    "                    'image': tf.train.Feature(bytes_list=tf.train.BytesList(value=[image])),\n",
    "                    # 标签是一个Int对象\n",
    "                    'label': tf.train.Feature(int64_list=tf.train.Int64List(value=[label]))\n",
    "                    }\n",
    "            # 通过feature字典建立Example\n",
    "            example = tf.train.Example(features=tf.train.Features(feature=feature))\n",
    "            # 将Example序列化并写入TFRecord 文件\n",
    "            writer.write(example.SerializeToString())\n"
   ]
  },
  {
   "cell_type": "markdown",
   "id": "a97da828",
   "metadata": {},
   "source": [
    "# TFRecord格式\n",
    "tf.train.Feature 支持三种数据格式：\n",
    "\n",
    "tf.train.BytesList ：字符串或原始 Byte 文件（如图片），通过 bytes_list 参数传入一个由字符串数组初始化的 tf.train.BytesList 对象；\n",
    "\n",
    "tf.train.FloatList ：浮点数，通过 float_list 参数传入一个由浮点数数组初始化的 tf.train.FloatList 对象；\n",
    "\n",
    "tf.train.Int64List ：整数，通过 int64_list 参数传入一个由整数数组初始化的 tf.train.Int64List 对象。\n",
    "\n",
    "如果只希望保存一个元素而非数组，传入一个只有一个元素的数组即可"
   ]
  },
  {
   "cell_type": "markdown",
   "id": "3ffb3bf9",
   "metadata": {},
   "source": [
    "## 生成TFRecord格式数据文件"
   ]
  },
  {
   "cell_type": "code",
   "execution_count": 23,
   "id": "adef695c",
   "metadata": {},
   "outputs": [
    {
     "name": "stdout",
     "output_type": "stream",
     "text": [
      "./data_small/train/train.tfrecords already exists.\n"
     ]
    }
   ],
   "source": [
    "import os\n",
    "import tensorflow as tfrecord_file\n",
    "\n",
    "train_data_dir = './data_small/train/'  # 数据集路径\n",
    "tfrecord_file = train_data_dir + 'train.tfrecords'  # 生成的tfrecord路径 \n",
    "\n",
    "if not os.path.isfile(tfrecord_file): # 判断train.tfrecord是否存在\n",
    "    train_filenames,train_labels = read_image_filenames(train_data_dir)\n",
    "    write_TFRecord_file(train_filenames,train_labels,tfrecord_file)\n",
    "    print('write TFRecord file:',tfrecord_file)\n",
    "else:\n",
    "    print(tfrecord_file,'already exists.')\n"
   ]
  },
  {
   "cell_type": "markdown",
   "id": "a0b70b29",
   "metadata": {},
   "source": [
    "## 定义TFRecord数据文件解码函数"
   ]
  },
  {
   "cell_type": "code",
   "execution_count": 24,
   "id": "8df0008c",
   "metadata": {},
   "outputs": [],
   "source": [
    "# 定义Feature结构，告诉解码器每个Feature的类型是什么，要与生成的TFrecord的类型一致\n",
    "feature_description = {\n",
    "                        \"image\":tf.io.FixedLenFeature([],tf.string),\n",
    "                        \"label\":tf.io.FixedLenFeature([],tf.int64)\n",
    "                      }\n",
    "\n",
    "# 将TFRecord 文件中的每一个序列化的 tf.train.Example 解码\n",
    "def parse_example(example_string):\n",
    "    feature_dict = tf.io.parse_single_example(example_string,feature_description)\n",
    "    feature_dict['image'] = tf.io.decode_jpeg(feature_dict['image']) # 解码JPEG图片\n",
    "    feature_dict['image'] = tf.image.resize(feature_dict['image'],[224,224])/ 255.0  # 改变图片尺寸并进行归一化\n",
    "    return feature_dict['image'],feature_dict['label']\n",
    "\n"
   ]
  },
  {
   "cell_type": "markdown",
   "id": "7a08d5a3",
   "metadata": {},
   "source": [
    "# 定义读取TFRecord文件，解码并生成Dataset数据集的函数"
   ]
  },
  {
   "cell_type": "code",
   "execution_count": 25,
   "id": "ab18e03b",
   "metadata": {},
   "outputs": [],
   "source": [
    "def read_TFRecond_file(tfrecord_file):\n",
    "    # 读取TFRecord 文件\n",
    "    raw_dataset = tf.data.TFRecordDataset(tfrecord_file)\n",
    "    # 解码\n",
    "    dataset = raw_dataset.map(parse_example)\n",
    "    \n",
    "    return dataset\n"
   ]
  },
  {
   "cell_type": "markdown",
   "id": "e9eb862f",
   "metadata": {},
   "source": [
    "# 读取TFRecord文件，解码并生成Dataset数据集"
   ]
  },
  {
   "cell_type": "code",
   "execution_count": 26,
   "id": "9842784c",
   "metadata": {},
   "outputs": [],
   "source": [
    "# Dataset的数据缓冲器大小，和数据集大小及规律有关\n",
    "buffer_size = 20000\n",
    "# Dataset的数据批次大小，每批次多少个样本数\n",
    "batch_size = 8\n"
   ]
  },
  {
   "cell_type": "code",
   "execution_count": 27,
   "id": "627f00f8",
   "metadata": {},
   "outputs": [],
   "source": [
    "dataset_train = read_TFRecond_file(tfrecord_file)  # 解码\n",
    "dataset_train = dataset_train.shuffle(buffer_size)  # 打乱数据\n",
    "dataset_train = dataset_train.batch(batch_size)  # 分批次进行读取"
   ]
  },
  {
   "cell_type": "markdown",
   "id": "c562ff42",
   "metadata": {},
   "source": [
    "# 查看第一批元素"
   ]
  },
  {
   "cell_type": "code",
   "execution_count": 28,
   "id": "d732a24b",
   "metadata": {},
   "outputs": [
    {
     "data": {
      "image/png": "[encoded data removed]",
      "text/plain": [
       "<Figure size 432x288 with 8 Axes>"
      ]
     },
     "metadata": {},
     "output_type": "display_data"
    }
   ],
   "source": [
    "import matplotlib.pyplot as plt\n",
    "\n",
    "sub_dataset = dataset_train.take(1)\n",
    "\n",
    "for images,labels in sub_dataset:\n",
    "    fig,axs = plt.subplots(1, batch_size)\n",
    "    for i in range(batch_size):\n",
    "        axs[i].set_title(labels.numpy()[i])\n",
    "        axs[i].imshow(images.numpy()[i])\n",
    "        axs[i].set_xticks([])\n",
    "        axs[i].set_yticks([])\n",
    "    plt.show()"
   ]
  },
  {
   "cell_type": "markdown",
   "id": "0aa09bbf",
   "metadata": {},
   "source": [
    "# 模型训练"
   ]
  },
  {
   "cell_type": "code",
   "execution_count": 29,
   "id": "b8cc6f7f",
   "metadata": {},
   "outputs": [],
   "source": [
    "def vgg16_mode1(input_shape=(224,224,3)):\n",
    "    vgg16 = tf.keras.applications.vgg16.VGG16(include_top=False, # 选择不包含顶层\n",
    "                                              weights='imagenet',\n",
    "                                              input_shape=input_shape)\n",
    "    \n",
    "    for layer in vgg16.layers:\n",
    "        layer.trainable = False # 设置VGG-16预训练模型不可训练\n",
    "        \n",
    "    last = vgg16.output\n",
    "    \n",
    "    # 加入剩下未经训练的全连接层\n",
    "    x = tf.keras.layers.Flatten()(last)\n",
    "    x = tf.keras.layers.Dense(128,activation='relu')(x)\n",
    "    x = tf.keras.layers.Dropout(0.3)(x)\n",
    "    x = tf.keras.layers.Dense(32,activation='relu')(x)\n",
    "    x = tf.keras.layers.Dropout(0.3)(x)\n",
    "    x = tf.keras.layers.Dense(2,activation='softmax')(x)\n",
    "    \n",
    "    # 建立新的模型\n",
    "    model = tf.keras.models.Model(inputs=vgg16.input,outputs=x)\n",
    "    model.summary()\n",
    "    return model"
   ]
  },
  {
   "cell_type": "code",
   "execution_count": 30,
   "id": "2c6cbc6d",
   "metadata": {},
   "outputs": [
    {
     "name": "stdout",
     "output_type": "stream",
     "text": [
      "Model: \"functional_3\"\n",
      "_________________________________________________________________\n",
      "Layer (type)                 Output Shape              Param #   \n",
      "=================================================================\n",
      "input_2 (InputLayer)         [(None, 224, 224, 3)]     0         \n",
      "_________________________________________________________________\n",
      "block1_conv1 (Conv2D)        (None, 224, 224, 64)      1792      \n",
      "_________________________________________________________________\n",
      "block1_conv2 (Conv2D)        (None, 224, 224, 64)      36928     \n",
      "_________________________________________________________________\n",
      "block1_pool (MaxPooling2D)   (None, 112, 112, 64)      0         \n",
      "_________________________________________________________________\n",
      "block2_conv1 (Conv2D)        (None, 112, 112, 128)     73856     \n",
      "_________________________________________________________________\n",
      "block2_conv2 (Conv2D)        (None, 112, 112, 128)     147584    \n",
      "_________________________________________________________________\n",
      "block2_pool (MaxPooling2D)   (None, 56, 56, 128)       0         \n",
      "_________________________________________________________________\n",
      "block3_conv1 (Conv2D)        (None, 56, 56, 256)       295168    \n",
      "_________________________________________________________________\n",
      "block3_conv2 (Conv2D)        (None, 56, 56, 256)       590080    \n",
      "_________________________________________________________________\n",
      "block3_conv3 (Conv2D)        (None, 56, 56, 256)       590080    \n",
      "_________________________________________________________________\n",
      "block3_pool (MaxPooling2D)   (None, 28, 28, 256)       0         \n",
      "_________________________________________________________________\n",
      "block4_conv1 (Conv2D)        (None, 28, 28, 512)       1180160   \n",
      "_________________________________________________________________\n",
      "block4_conv2 (Conv2D)        (None, 28, 28, 512)       2359808   \n",
      "_________________________________________________________________\n",
      "block4_conv3 (Conv2D)        (None, 28, 28, 512)       2359808   \n",
      "_________________________________________________________________\n",
      "block4_pool (MaxPooling2D)   (None, 14, 14, 512)       0         \n",
      "_________________________________________________________________\n",
      "block5_conv1 (Conv2D)        (None, 14, 14, 512)       2359808   \n",
      "_________________________________________________________________\n",
      "block5_conv2 (Conv2D)        (None, 14, 14, 512)       2359808   \n",
      "_________________________________________________________________\n",
      "block5_conv3 (Conv2D)        (None, 14, 14, 512)       2359808   \n",
      "_________________________________________________________________\n",
      "block5_pool (MaxPooling2D)   (None, 7, 7, 512)         0         \n",
      "_________________________________________________________________\n",
      "flatten_1 (Flatten)          (None, 25088)             0         \n",
      "_________________________________________________________________\n",
      "dense_3 (Dense)              (None, 128)               3211392   \n",
      "_________________________________________________________________\n",
      "dropout_2 (Dropout)          (None, 128)               0         \n",
      "_________________________________________________________________\n",
      "dense_4 (Dense)              (None, 32)                4128      \n",
      "_________________________________________________________________\n",
      "dropout_3 (Dropout)          (None, 32)                0         \n",
      "_________________________________________________________________\n",
      "dense_5 (Dense)              (None, 2)                 66        \n",
      "=================================================================\n",
      "Total params: 17,930,274\n",
      "Trainable params: 3,215,586\n",
      "Non-trainable params: 14,714,688\n",
      "_________________________________________________________________\n"
     ]
    }
   ],
   "source": [
    "# 新建模型\n",
    "model = vgg16_mode1() # 模型设置\n",
    "model.compile(optimizer='adam',loss='sparse_categorical_crossentropy',metrics=['accuracy'])\n"
   ]
  },
  {
   "cell_type": "code",
   "execution_count": null,
   "id": "9875bc07",
   "metadata": {},
   "outputs": [
    {
     "name": "stdout",
     "output_type": "stream",
     "text": [
      "Epoch 1/3\n",
      "    209/Unknown - 93s 447ms/step - loss: 0.6631 - accuracy: 0.6776"
     ]
    }
   ],
   "source": [
    "training_epochs = 3\n",
    "model.fit(dataset_train,epochs=training_epochs,verbose=1)\n"
   ]
  },
  {
   "cell_type": "code",
   "execution_count": null,
   "id": "6a367306",
   "metadata": {},
   "outputs": [],
   "source": [
    "# 模型结构存储在.yaml文件中\n",
    "yaml_string = model.to_yaml()\n",
    "with open('./models/cat_dog.yaml','w') as model_file:\n",
    "    model_file.write(yaml_string)\n",
    "    # 模型权重参数存储在.h5文件中\n",
    "    model.save_weights('./models/cat_dog.h5')"
   ]
  },
  {
   "cell_type": "code",
   "execution_count": null,
   "id": "115aaacb",
   "metadata": {},
   "outputs": [],
   "source": []
  }
 ],
 "metadata": {
  "kernelspec": {
   "display_name": "Python [conda env:Tf_G-230]",
   "language": "python",
   "name": "conda-env-Tf_G-230-py"
  },
  "language_info": {
   "codemirror_mode": {
    "name": "ipython",
    "version": 3
   },
   "file_extension": ".py",
   "mimetype": "text/x-python",
   "name": "python",
   "nbconvert_exporter": "python",
   "pygments_lexer": "ipython3",
   "version": "3.6.2"
  },
  "toc": {
   "base_numbering": 1,
   "nav_menu": {},
   "number_sections": true,
   "sideBar": true,
   "skip_h1_title": false,
   "title_cell": "Table of Contents",
   "title_sidebar": "Contents",
   "toc_cell": false,
   "toc_position": {},
   "toc_section_display": true,
   "toc_window_display": false
  },
  "varInspector": {
   "cols": {
    "lenName": 16,
    "lenType": 16,
    "lenVar": 40
   },
   "kernels_config": {
    "python": {
     "delete_cmd_postfix": "",
     "delete_cmd_prefix": "del ",
     "library": "var_list.py",
     "varRefreshCmd": "print(var_dic_list())"
    },
    "r": {
     "delete_cmd_postfix": ") ",
     "delete_cmd_prefix": "rm(",
     "library": "var_list.r",
     "varRefreshCmd": "cat(var_dic_list()) "
    }
   },
   "types_to_exclude": [
    "module",
    "function",
    "builtin_function_or_method",
    "instance",
    "_Feature"
   ],
   "window_display": false
  }
 },
 "nbformat": 4,
 "nbformat_minor": 5
}
